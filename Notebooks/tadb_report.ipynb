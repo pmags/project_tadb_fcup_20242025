{
 "cells": [
  {
   "cell_type": "markdown",
   "id": "d595f50e",
   "metadata": {},
   "source": [
    "# Advanced Technics on Databases\n",
    "\n"
   ]
  },
  {
   "cell_type": "code",
   "execution_count": null,
   "id": "443a273a",
   "metadata": {},
   "outputs": [],
   "source": [
    "from utils import show"
   ]
  },
  {
   "cell_type": "markdown",
   "id": "b1875bd7",
   "metadata": {},
   "source": [
    "To  compile code\n",
    "\n",
    "- gcc -I/usr/include/postgresql gis_functions/geo_ops.c -o gis_functions/geo_ops -lpq -lm"
   ]
  }
 ],
 "metadata": {
  "kernelspec": {
   "display_name": "env",
   "language": "python",
   "name": "python3"
  },
  "language_info": {
   "codemirror_mode": {
    "name": "ipython",
    "version": 3
   },
   "file_extension": ".py",
   "mimetype": "text/x-python",
   "name": "python",
   "nbconvert_exporter": "python",
   "pygments_lexer": "ipython3",
   "version": "3.11.12"
  }
 },
 "nbformat": 4,
 "nbformat_minor": 5
}

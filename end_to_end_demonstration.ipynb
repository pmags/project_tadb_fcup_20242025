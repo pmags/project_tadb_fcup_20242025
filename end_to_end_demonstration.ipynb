{
 "cells": [
  {
   "cell_type": "markdown",
   "id": "4feccd89",
   "metadata": {},
   "source": [
    "# End to End demonstration\n",
    "\n",
    "This notebook is intended to demonstrate the prolog/yap solver in action apllying for an existing puzzle or to a new random one."
   ]
  },
  {
   "cell_type": "code",
   "execution_count": null,
   "id": "1ce07d67",
   "metadata": {},
   "outputs": [],
   "source": [
    "%matplotlib inline\n",
    "import matplotlib.pyplot as plt\n",
    "from shapely.wkt import loads as wkt_loads\n",
    "\n",
    "from setup_env.setup_db import setup_db\n",
    "from utils.plot import plot_geometry, plot_solutions\n",
    "from utils.db import connect_db\n",
    "from utils.solver import run_yap_solver\n",
    "from utils.puzzles import puzzle_generator"
   ]
  },
  {
   "cell_type": "code",
   "execution_count": null,
   "id": "5c91e408",
   "metadata": {},
   "outputs": [],
   "source": [
    "# setups a new environment for the application to run\n",
    "setup_db()"
   ]
  },
  {
   "cell_type": "code",
   "execution_count": null,
   "id": "1fe2fc8d",
   "metadata": {},
   "outputs": [],
   "source": [
    "%matplotlib inline\n",
    "## show initial example puzzle and example solution\n",
    "\n",
    "conn = connect_db()\n",
    "cur = conn.cursor()\n",
    "\n",
    "query_puzzle = \"\"\"\n",
    "SELECT \n",
    "    id\n",
    "    , name\n",
    "    , ST_AsText(geom) \n",
    "FROM puzzles\n",
    "WHERE id = 1; \n",
    "\"\"\"\n",
    "\n",
    "cur.execute(query_puzzle)\n",
    "puzzle = cur.fetchall()\n",
    "geom=puzzle[0][2]\n",
    "cur.close()\n",
    "conn.close()\n",
    "\n",
    "fig, ax = plt.subplots()\n",
    "plot_geometry(ax=ax,geom=geom, color=\"gray\",title=\"Puzzle 1\")\n",
    "plt.show()"
   ]
  },
  {
   "cell_type": "code",
   "execution_count": null,
   "id": "86334022",
   "metadata": {},
   "outputs": [],
   "source": [
    "## Show theoretical solution for puzzle 1. This one was created manually\n",
    "\n",
    "fig1, ax1 = plt.subplots()\n",
    "plot_solutions(ax=ax1, puzzle_id=1, title=\"Puzzle 1 Solutions\", solution_id=1 )\n",
    "plt.show()"
   ]
  },
  {
   "cell_type": "code",
   "execution_count": null,
   "id": "775e7c63",
   "metadata": {},
   "outputs": [],
   "source": [
    "# Running yap solver on know puzzle\n",
    "\n",
    "run_yap_solver(puzzle_id=1)"
   ]
  },
  {
   "cell_type": "code",
   "execution_count": null,
   "id": "d9306159",
   "metadata": {},
   "outputs": [],
   "source": [
    "fig2, ax2 = plt.subplots()\n",
    "plot_solutions(ax=ax2, puzzle_id=1, title=\"Puzzle 1 Solution from solver\", solution_id=2 )\n",
    "plt.show()"
   ]
  },
  {
   "cell_type": "code",
   "execution_count": null,
   "id": "517f559a",
   "metadata": {},
   "outputs": [],
   "source": [
    "## And now for something completely different\n",
    "## Can it solve if we generate a new puzzle?\n",
    "## Lets find are 51 ...\n",
    "\n",
    "puzzle_generator(puzzle_id=51, width=6, height=6, num_holes=4)"
   ]
  },
  {
   "cell_type": "code",
   "execution_count": null,
   "id": "2bf1fded",
   "metadata": {},
   "outputs": [],
   "source": [
    "conn = connect_db()\n",
    "cur = conn.cursor()\n",
    "\n",
    "query_puzzle = \"\"\"\n",
    "SELECT \n",
    "    id\n",
    "    , name\n",
    "    , ST_AsText(geom) \n",
    "FROM puzzles\n",
    "WHERE id = 51; \n",
    "\"\"\"\n",
    "\n",
    "cur.execute(query_puzzle)\n",
    "puzzle = cur.fetchall()\n",
    "geom=puzzle[0][2]\n",
    "cur.close()\n",
    "conn.close()\n",
    "\n",
    "fig, ax = plt.subplots()\n",
    "plot_geometry(ax=ax,geom=geom, color=\"gray\",title=\"Area 51!\")\n",
    "plt.show()"
   ]
  },
  {
   "cell_type": "code",
   "execution_count": null,
   "id": "f402ecd4",
   "metadata": {},
   "outputs": [],
   "source": [
    "# Running yap solver on know puzzle\n",
    "\n",
    "run_yap_solver(puzzle_id=51)"
   ]
  },
  {
   "cell_type": "code",
   "execution_count": null,
   "id": "52e70911",
   "metadata": {},
   "outputs": [],
   "source": [
    "## Hopefully it can solve this one too!\n",
    "\n",
    "fig3, ax3 = plt.subplots()\n",
    "plot_solutions(ax=ax3, puzzle_id=51, title=\"Area 51 Solution from solver\", solution_id=1 )\n",
    "plt.show()"
   ]
  },
  {
   "cell_type": "markdown",
   "id": "e682412e",
   "metadata": {},
   "source": [
    "## Next steps for refactoring\n",
    "\n",
    "Due to lack of time some functions were not implemented and some code is not as clean as it should be. The next steps for refactoring are:\n",
    "\n",
    "- Implement a 'fail safe' function when the solver does not find a solution.\n",
    "\n",
    "- If the puzzle is too small or impossible to solve from the start (eg: 2x2 grid or 1x10 grid) the solver function shouln't even run the yap predicates and fail fast.\n",
    "\n",
    "- Some functions are repeated or too long and should be refactored to be more readable and reusable.\n",
    "\n",
    "- The solver was not tested agains puzzle of totaly separated polygons inside a multipolygon."
   ]
  }
 ],
 "metadata": {
  "kernelspec": {
   "display_name": "env",
   "language": "python",
   "name": "python3"
  },
  "language_info": {
   "codemirror_mode": {
    "name": "ipython",
    "version": 3
   },
   "file_extension": ".py",
   "mimetype": "text/x-python",
   "name": "python",
   "nbconvert_exporter": "python",
   "pygments_lexer": "ipython3",
   "version": "3.11.12"
  }
 },
 "nbformat": 4,
 "nbformat_minor": 5
}
